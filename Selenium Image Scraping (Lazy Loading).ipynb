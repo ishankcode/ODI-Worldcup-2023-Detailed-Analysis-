{
 "cells": [
  {
   "cell_type": "markdown",
   "id": "565394e5",
   "metadata": {},
   "source": [
    "# Web Scraping code (Images) - Selenium"
   ]
  },
  {
   "cell_type": "markdown",
   "id": "15b7aaa1",
   "metadata": {},
   "source": [
    "#### I am not running these cells as I have ran the code and extracted the images by running same code in another notebook \n",
    "Check Data Analysis & Modelling notebook (at the bottom)"
   ]
  },
  {
   "cell_type": "code",
   "execution_count": null,
   "id": "de688177",
   "metadata": {},
   "outputs": [],
   "source": [
    "from selenium import webdriver\n",
    "from webdriver_manager.chrome import ChromeDriverManager\n",
    "from selenium.webdriver.support.wait import WebDriverWait\n",
    "from selenium.webdriver.support import expected_conditions as EC\n",
    "from selenium.webdriver.common.by import By\n",
    "import pandas as pd\n",
    "\n",
    "chrome_options = webdriver.ChromeOptions()\n",
    "chrome_options.add_argument(\"--no-sandbox\")  # Optional: Disable sandbox mode\n",
    "chrome_options.binary_location = \"C:\\\\Program Files\\\\Google\\\\Chrome\\\\Application\\\\chrome.exe\"  # Specify your Chrome binary location\n",
    "\n"
   ]
  },
  {
   "cell_type": "code",
   "execution_count": null,
   "id": "5b12a671",
   "metadata": {},
   "outputs": [],
   "source": []
  },
  {
   "cell_type": "code",
   "execution_count": null,
   "id": "610de29f",
   "metadata": {},
   "outputs": [],
   "source": [
    "merged_final = pd.read_csv(ranked_best_players.csv)"
   ]
  },
  {
   "cell_type": "code",
   "execution_count": null,
   "id": "114724cb",
   "metadata": {},
   "outputs": [],
   "source": [
    "driver = webdriver.Chrome(ChromeDriverManager().install(), options=chrome_options)\n",
    "\n",
    "for index, row in merged_final.iterrows():\n",
    "    \n",
    "    \n",
    "    url = \"https://www.espncricinfo.com\" + row[\"Player_link\"]\n",
    "    \n",
    "    # Open the webpage\n",
    "    driver.get(url)\n",
    "\n",
    "    # Find the <img> tag with a specific alt attribute value\n",
    "    alt_value = row[\"Name\"]  # Replace with the alt value you are looking for\n",
    "    \n",
    "    t=20\n",
    "\n",
    "    while True:\n",
    "        try:\n",
    "            # Wait for the image to be visible and loaded\n",
    "            img_tag = WebDriverWait(driver, t).until(\n",
    "                EC.visibility_of_element_located((By.XPATH, f\"//img[@alt='{alt_value}']\"))\n",
    "            )\n",
    "\n",
    "            # Get the src attribute of the <img> tag\n",
    "            img_src = img_tag.get_attribute(\"src\")\n",
    "\n",
    "            if \"lazyimage\" in img_src:\n",
    "                if t>60:\n",
    "                    break\n",
    "                t+=5\n",
    "                continue \n",
    "                \n",
    "            else:\n",
    "                print(\"Image Source:\", img_src)\n",
    "                merged_final.at[index,\"player_img\"] = img_src\n",
    "                break   \n",
    "        except Exception as e:\n",
    "            print(\"Image not found or failed to load.\")\n",
    "            print(e)\n",
    "            break\n",
    "\n",
    "\n",
    "# Close the browser\n",
    "driver.quit()"
   ]
  }
 ],
 "metadata": {
  "kernelspec": {
   "display_name": "Python 3 (ipykernel)",
   "language": "python",
   "name": "python3"
  },
  "language_info": {
   "codemirror_mode": {
    "name": "ipython",
    "version": 3
   },
   "file_extension": ".py",
   "mimetype": "text/x-python",
   "name": "python",
   "nbconvert_exporter": "python",
   "pygments_lexer": "ipython3",
   "version": "3.9.13"
  }
 },
 "nbformat": 4,
 "nbformat_minor": 5
}
